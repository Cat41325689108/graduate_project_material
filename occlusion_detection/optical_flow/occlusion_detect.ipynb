{
 "cells": [
  {
   "cell_type": "code",
   "execution_count": 1,
   "metadata": {
    "collapsed": true
   },
   "outputs": [
    {
     "ename": "NoSuchFile",
     "evalue": "[ONNXRuntimeError] : 3 : NO_SUCHFILE : Load model from GMFlowNet.onnx failed:Load model GMFlowNet.onnx failed. File doesn't exist",
     "output_type": "error",
     "traceback": [
      "\u001B[1;31m---------------------------------------------------------------------------\u001B[0m",
      "\u001B[1;31mNoSuchFile\u001B[0m                                Traceback (most recent call last)",
      "\u001B[1;32m~\\AppData\\Local\\Temp\\ipykernel_17196\\767915446.py\u001B[0m in \u001B[0;36m<module>\u001B[1;34m\u001B[0m\n\u001B[0;32m     22\u001B[0m \u001B[1;31m# 加载光流模型\u001B[0m\u001B[1;33m\u001B[0m\u001B[1;33m\u001B[0m\u001B[1;33m\u001B[0m\u001B[0m\n\u001B[0;32m     23\u001B[0m \u001B[0monnx_file\u001B[0m \u001B[1;33m=\u001B[0m \u001B[1;34m\"GMFlowNet.onnx\"\u001B[0m\u001B[1;33m\u001B[0m\u001B[1;33m\u001B[0m\u001B[0m\n\u001B[1;32m---> 24\u001B[1;33m \u001B[0minfer_task\u001B[0m \u001B[1;33m=\u001B[0m \u001B[0monnxruntime\u001B[0m\u001B[1;33m.\u001B[0m\u001B[0mInferenceSession\u001B[0m\u001B[1;33m(\u001B[0m\u001B[0monnx_file\u001B[0m\u001B[1;33m,\u001B[0m \u001B[0mproviders\u001B[0m\u001B[1;33m=\u001B[0m\u001B[1;33m[\u001B[0m\u001B[1;34m'CPUExecutionProvider'\u001B[0m\u001B[1;33m]\u001B[0m\u001B[1;33m)\u001B[0m\u001B[1;33m\u001B[0m\u001B[1;33m\u001B[0m\u001B[0m\n\u001B[0m\u001B[0;32m     25\u001B[0m \u001B[1;33m\u001B[0m\u001B[0m\n\u001B[0;32m     26\u001B[0m \u001B[1;31m# 将图像转换成张量格式，即B x C x H x W\u001B[0m\u001B[1;33m\u001B[0m\u001B[1;33m\u001B[0m\u001B[1;33m\u001B[0m\u001B[0m\n",
      "\u001B[1;32mC:\\ProgramData\\Miniconda3\\envs\\General\\lib\\site-packages\\onnxruntime\\capi\\onnxruntime_inference_collection.py\u001B[0m in \u001B[0;36m__init__\u001B[1;34m(self, path_or_bytes, sess_options, providers, provider_options, **kwargs)\u001B[0m\n\u001B[0;32m    345\u001B[0m \u001B[1;33m\u001B[0m\u001B[0m\n\u001B[0;32m    346\u001B[0m         \u001B[1;32mtry\u001B[0m\u001B[1;33m:\u001B[0m\u001B[1;33m\u001B[0m\u001B[1;33m\u001B[0m\u001B[0m\n\u001B[1;32m--> 347\u001B[1;33m             \u001B[0mself\u001B[0m\u001B[1;33m.\u001B[0m\u001B[0m_create_inference_session\u001B[0m\u001B[1;33m(\u001B[0m\u001B[0mproviders\u001B[0m\u001B[1;33m,\u001B[0m \u001B[0mprovider_options\u001B[0m\u001B[1;33m,\u001B[0m \u001B[0mdisabled_optimizers\u001B[0m\u001B[1;33m)\u001B[0m\u001B[1;33m\u001B[0m\u001B[1;33m\u001B[0m\u001B[0m\n\u001B[0m\u001B[0;32m    348\u001B[0m         \u001B[1;32mexcept\u001B[0m \u001B[0mValueError\u001B[0m\u001B[1;33m:\u001B[0m\u001B[1;33m\u001B[0m\u001B[1;33m\u001B[0m\u001B[0m\n\u001B[0;32m    349\u001B[0m             \u001B[1;32mif\u001B[0m \u001B[0mself\u001B[0m\u001B[1;33m.\u001B[0m\u001B[0m_enable_fallback\u001B[0m\u001B[1;33m:\u001B[0m\u001B[1;33m\u001B[0m\u001B[1;33m\u001B[0m\u001B[0m\n",
      "\u001B[1;32mC:\\ProgramData\\Miniconda3\\envs\\General\\lib\\site-packages\\onnxruntime\\capi\\onnxruntime_inference_collection.py\u001B[0m in \u001B[0;36m_create_inference_session\u001B[1;34m(self, providers, provider_options, disabled_optimizers)\u001B[0m\n\u001B[0;32m    382\u001B[0m         \u001B[0msession_options\u001B[0m \u001B[1;33m=\u001B[0m \u001B[0mself\u001B[0m\u001B[1;33m.\u001B[0m\u001B[0m_sess_options\u001B[0m \u001B[1;32mif\u001B[0m \u001B[0mself\u001B[0m\u001B[1;33m.\u001B[0m\u001B[0m_sess_options\u001B[0m \u001B[1;32melse\u001B[0m \u001B[0mC\u001B[0m\u001B[1;33m.\u001B[0m\u001B[0mget_default_session_options\u001B[0m\u001B[1;33m(\u001B[0m\u001B[1;33m)\u001B[0m\u001B[1;33m\u001B[0m\u001B[1;33m\u001B[0m\u001B[0m\n\u001B[0;32m    383\u001B[0m         \u001B[1;32mif\u001B[0m \u001B[0mself\u001B[0m\u001B[1;33m.\u001B[0m\u001B[0m_model_path\u001B[0m\u001B[1;33m:\u001B[0m\u001B[1;33m\u001B[0m\u001B[1;33m\u001B[0m\u001B[0m\n\u001B[1;32m--> 384\u001B[1;33m             \u001B[0msess\u001B[0m \u001B[1;33m=\u001B[0m \u001B[0mC\u001B[0m\u001B[1;33m.\u001B[0m\u001B[0mInferenceSession\u001B[0m\u001B[1;33m(\u001B[0m\u001B[0msession_options\u001B[0m\u001B[1;33m,\u001B[0m \u001B[0mself\u001B[0m\u001B[1;33m.\u001B[0m\u001B[0m_model_path\u001B[0m\u001B[1;33m,\u001B[0m \u001B[1;32mTrue\u001B[0m\u001B[1;33m,\u001B[0m \u001B[0mself\u001B[0m\u001B[1;33m.\u001B[0m\u001B[0m_read_config_from_model\u001B[0m\u001B[1;33m)\u001B[0m\u001B[1;33m\u001B[0m\u001B[1;33m\u001B[0m\u001B[0m\n\u001B[0m\u001B[0;32m    385\u001B[0m         \u001B[1;32melse\u001B[0m\u001B[1;33m:\u001B[0m\u001B[1;33m\u001B[0m\u001B[1;33m\u001B[0m\u001B[0m\n\u001B[0;32m    386\u001B[0m             \u001B[0msess\u001B[0m \u001B[1;33m=\u001B[0m \u001B[0mC\u001B[0m\u001B[1;33m.\u001B[0m\u001B[0mInferenceSession\u001B[0m\u001B[1;33m(\u001B[0m\u001B[0msession_options\u001B[0m\u001B[1;33m,\u001B[0m \u001B[0mself\u001B[0m\u001B[1;33m.\u001B[0m\u001B[0m_model_bytes\u001B[0m\u001B[1;33m,\u001B[0m \u001B[1;32mFalse\u001B[0m\u001B[1;33m,\u001B[0m \u001B[0mself\u001B[0m\u001B[1;33m.\u001B[0m\u001B[0m_read_config_from_model\u001B[0m\u001B[1;33m)\u001B[0m\u001B[1;33m\u001B[0m\u001B[1;33m\u001B[0m\u001B[0m\n",
      "\u001B[1;31mNoSuchFile\u001B[0m: [ONNXRuntimeError] : 3 : NO_SUCHFILE : Load model from GMFlowNet.onnx failed:Load model GMFlowNet.onnx failed. File doesn't exist"
     ]
    }
   ],
   "source": [
    "import cv2\n",
    "import numpy as np\n",
    "import onnxruntime\n",
    "\n",
    "# 读取两张图像\n",
    "image1 = cv2.imread(\"../datas/motion1.png\")\n",
    "image2 = cv2.imread(\"../datas/motion2.png\")\n",
    "\n",
    "# 转换成RGB格式\n",
    "image1 = cv2.cvtColor(image1, cv2.COLOR_BGR2RGB)\n",
    "image2 = cv2.cvtColor(image2, cv2.COLOR_BGR2RGB)\n",
    "\n",
    "# 获取图像的高度和宽度\n",
    "height, width, _ = image1.shape\n",
    "\n",
    "# 定义一个空白图像，用于存放变换后的图像\n",
    "warped_image = np.zeros_like(image1)\n",
    "\n",
    "# 定义一个空白图像，用于存放遮挡区域的掩码\n",
    "occlusion_mask = np.zeros((height, width), dtype=np.uint8)\n",
    "\n",
    "# 加载光流模型\n",
    "onnx_file = \"GMFlowNet.onnx\"\n",
    "infer_task = onnxruntime.InferenceSession(onnx_file, providers=['CPUExecutionProvider'])\n",
    "\n",
    "# 将图像转换成张量格式，即B x C x H x W\n",
    "def convert_to_tensor(x):\n",
    "    x_tensor = x.transpose(2, 0, 1)\n",
    "    x_tensor = np.ascontiguousarray(x_tensor)\n",
    "    x_tensor = np.expand_dims(x_tensor, axis=0)\n",
    "    return x_tensor.astype(\"float32\")\n",
    "\n",
    "# 计算前向光流，即I_1 -> I_2 的光流\n",
    "[forward_flow] = infer_task.run(\n",
    "    [\"flow\"],\n",
    "    {\"image1\": convert_to_tensor(image1), \"image2\": convert_to_tensor(image2)}\n",
    ")\n",
    "\n",
    "# 将光流转换成数组格式，即H x W x C\n",
    "forward_flow = np.ascontiguousarray(forward_flow[0].transpose(1, 2, 0))\n",
    "\n",
    "# 定义一个函数，用于将坐标限制在有效范围内\n",
    "def clip(x, low, high):\n",
    "    return min(max(x, low), high)\n",
    "\n",
    "# 定义一个函数，用于将小数坐标四舍五入到最近的整数坐标\n",
    "def nearest_round(x):\n",
    "    return int(round(x))\n",
    "\n",
    "# 遍历每个像素点，根据光流向量进行变换和遮挡检测\n",
    "for i in range(height):\n",
    "    for j in range(width):\n",
    "        # 获取当前坐标对应的光流值\n",
    "        u = forward_flow[i, j, 0]\n",
    "        v = forward_flow[i, j, 1]\n",
    "\n",
    "        # 找到目标坐标，并截断在有效区域内\n",
    "        x = clip(nearest_round(i + v), 0, height - 1)\n",
    "        y = clip(nearest_round(j + u), 0, width - 1)\n",
    "\n",
    "        # 如果目标位置已经有值，说明存在遮挡或者运动不连续，设置遮挡掩码为255\n",
    "        if warped_image[x, y].any():\n",
    "            occlusion_mask[x, y] = 255\n",
    "\n",
    "        # 将原始图像的当前位置的值赋给变换后的图像的目标位置\n",
    "        warped_image[x, y] = image1[i, j]\n",
    "\n",
    "# 对变换后的图像进行插值，填补孔洞\n",
    "warped_image = cv2.inpaint(warped_image, occlusion_mask, 3, cv2.INPAINT_TELEA)\n",
    "\n",
    "# 显示结果\n",
    "cv2.imshow(\"Image 1\", image1)\n",
    "cv2.imshow(\"Image 2\", image2)\n",
    "cv2.imshow('warped_image',warped_image)"
   ]
  },
  {
   "cell_type": "code",
   "execution_count": null,
   "outputs": [],
   "source": [],
   "metadata": {
    "collapsed": false
   }
  }
 ],
 "metadata": {
  "kernelspec": {
   "display_name": "Python 3",
   "language": "python",
   "name": "python3"
  },
  "language_info": {
   "codemirror_mode": {
    "name": "ipython",
    "version": 2
   },
   "file_extension": ".py",
   "mimetype": "text/x-python",
   "name": "python",
   "nbconvert_exporter": "python",
   "pygments_lexer": "ipython2",
   "version": "2.7.6"
  }
 },
 "nbformat": 4,
 "nbformat_minor": 0
}
