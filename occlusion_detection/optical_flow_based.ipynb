{
 "cells": [
  {
   "cell_type": "code",
   "execution_count": 101,
   "metadata": {
    "collapsed": true
   },
   "outputs": [
    {
     "name": "stdout",
     "output_type": "stream",
     "text": [
      "4.7.0\n"
     ]
    }
   ],
   "source": [
    "import cv2 as cv\n",
    "import numpy as np\n",
    "\n",
    "print(cv.__version__)"
   ]
  },
  {
   "cell_type": "code",
   "execution_count": 102,
   "outputs": [],
   "source": [
    "class Detector:\n",
    "    def __init__(self, fps):\n",
    "        self.fps = fps\n",
    "        self.T_f = self.fps * 5  # how many frames to be accumulated\n",
    "\n",
    "        self.F_avg = 0\n",
    "        self.F_sum = 0\n",
    "        self.initial_stage = True\n",
    "        self.initial_i = 2\n",
    "\n",
    "        self.pre_frame = None\n",
    "        self.cur_frame = None\n",
    "\n",
    "        self.alpha = 1\n",
    "        self.threshold_low = 72\n",
    "        self.threshold_high = 168\n",
    "\n",
    "        # 每次报警后暂停检测的时间\n",
    "        self.pause_frame_i = 0\n",
    "        self.pause_interval = 5 * self.fps  #frames\n",
    "        self.alarm_pause = False\n",
    "\n",
    "        self.detecte_interval = 3 * self.fps  #frames\n",
    "        self.detecte_fram_i = 0\n",
    "        self.alarm_results = []\n",
    "\n",
    "    def canny(self, frame):\n",
    "        f = cv.cvtColor(frame, cv.COLOR_BGR2GRAY)\n",
    "        f = cv.Canny(f, 100, 200)\n",
    "        return f\n",
    "\n",
    "    def gray(self, frame):\n",
    "        return cv.cvtColor(frame, cv.COLOR_BGR2GRAY)\n",
    "\n",
    "    def occlusion_detect(self):\n",
    "        pre_frame = self.canny(self.pre_frame)\n",
    "        cur_frame = self.canny(self.cur_frame)\n",
    "        sim = np.logical_and(pre_frame, cur_frame)\n",
    "        sim = np.sum(sim)\n",
    "        # print(f'sim：{sim} ')\n",
    "        if sim < self.F_avg / 3.5:\n",
    "            # print(sim)\n",
    "            return 'occlusion'\n",
    "\n",
    "    def motion_detect(self):\n",
    "        pre_frame = self.gray(self.pre_frame)\n",
    "        cur_frame = self.gray(self.cur_frame)\n",
    "        flow = cv.calcOpticalFlowFarneback(pre_frame, cur_frame, None, 0.5, 3, 15, 3, 5, 1.2, 0)\n",
    "        flow_avg = np.zeros(2)\n",
    "        flow_avg[0] = np.mean(flow[..., 0])\n",
    "        flow_avg[1] = np.mean(flow[..., 1])\n",
    "        flow_len = np.linalg.norm(flow_avg)\n",
    "        # print(flow_len)\n",
    "        if flow_len > 7:\n",
    "            return 'motion'\n",
    "        if flow_len > 2:\n",
    "            return 'shake'\n",
    "\n",
    "    def pass_frame(self, frame):\n",
    "        f = frame\n",
    "        if self.cur_frame is None:\n",
    "            self.cur_frame = f\n",
    "            return None\n",
    "        else:\n",
    "            self.pre_frame = self.cur_frame\n",
    "            self.cur_frame = f\n",
    "\n",
    "        if self.initial_stage == True:\n",
    "            self.__initialize()\n",
    "            return None\n",
    "        else:\n",
    "            if self.alarm_pause == True:  # 已经报警\n",
    "                self.pause_frame_i += 1\n",
    "                if self.pause_frame_i > self.pause_interval:\n",
    "                    self.pause_frame_i = 0\n",
    "                    self.alarm_pause = False\n",
    "                return None\n",
    "\n",
    "            self.detecte_fram_i += 1\n",
    "            occlusion = self.occlusion_detect()\n",
    "            motion = self.motion_detect()\n",
    "            if occlusion != None:\n",
    "                self.alarm_results.append(occlusion)\n",
    "            if motion != None:\n",
    "                self.alarm_results.append(motion)\n",
    "\n",
    "            if self.detecte_fram_i > self.detecte_interval:\n",
    "                self.detecte_fram_i = 0\n",
    "                if len(self.alarm_results) != 0:\n",
    "                    self.alarm_pause = True\n",
    "                    if 'motion' in self.alarm_results:\n",
    "                        return 'motion'\n",
    "                    elif self.alarm_results.count('shake') > 4:\n",
    "                        return  'shake'\n",
    "                    else:\n",
    "                        return 'occlusion'\n",
    "\n",
    "    def __initialize(self):\n",
    "        pre_frame = self.canny(self.pre_frame)\n",
    "        cur_frame = self.canny(self.cur_frame)\n",
    "        diff = np.logical_and(pre_frame, cur_frame)\n",
    "        if self.F_sum is None:\n",
    "            self.F_sum = np.zeros(pre_frame.shape)\n",
    "        self.F_sum += diff\n",
    "        self.initial_i += self.detecte_interval\n",
    "        if self.initial_i >= self.T_f:\n",
    "            self.F_avg = np.sum(self.F_sum / (self.T_f + 1))\n",
    "            self.initial_stage = False\n"
   ],
   "metadata": {
    "collapsed": false
   }
  },
  {
   "cell_type": "code",
   "execution_count": 103,
   "outputs": [
    {
     "name": "stdout",
     "output_type": "stream",
     "text": [
      "occlusion\n",
      "occlusion\n",
      "occlusion\n",
      "motion\n",
      "motion\n"
     ]
    }
   ],
   "source": [
    "cap = cv.VideoCapture('datas/library_short.mp4')\n",
    "# cap = cv.VideoCapture('datas/shaking2.mp4')\n",
    "# cap = cv.VideoCapture(0)\n",
    "detector = Detector(fps=int(cap.get(cv.CAP_PROP_FPS)))\n",
    "\n",
    "while cap.isOpened():\n",
    "    ret, frame = cap.read()\n",
    "    if ret == False:\n",
    "        break\n",
    "\n",
    "    frame = cv.resize(frame, (360, 360))  # 图像放缩\n",
    "\n",
    "    frame_canny = detector.canny(frame)\n",
    "    frame_show = frame\n",
    "    detection = detector.pass_frame(frame)\n",
    "\n",
    "    font = cv.FONT_HERSHEY_SIMPLEX\n",
    "\n",
    "    if detection != None:\n",
    "        print(detection)\n",
    "        cv.putText(frame_show, detection, (10, 100), font, 0.5, (255, 255, 0), 2)\n",
    "\n",
    "    cv.imshow('frame', frame)\n",
    "    c = cv.waitKey(1)\n",
    "    if c == 27:  #ESC键\n",
    "        break\n",
    "cap.release()\n",
    "cv.destroyAllWindows()"
   ],
   "metadata": {
    "collapsed": false
   }
  },
  {
   "cell_type": "code",
   "execution_count": 103,
   "outputs": [],
   "source": [],
   "metadata": {
    "collapsed": false
   }
  }
 ],
 "metadata": {
  "kernelspec": {
   "display_name": "Python 3",
   "language": "python",
   "name": "python3"
  },
  "language_info": {
   "codemirror_mode": {
    "name": "ipython",
    "version": 2
   },
   "file_extension": ".py",
   "mimetype": "text/x-python",
   "name": "python",
   "nbconvert_exporter": "python",
   "pygments_lexer": "ipython2",
   "version": "2.7.6"
  }
 },
 "nbformat": 4,
 "nbformat_minor": 0
}
