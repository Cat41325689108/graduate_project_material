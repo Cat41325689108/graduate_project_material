{
 "cells": [
  {
   "cell_type": "code",
   "execution_count": 18,
   "metadata": {
    "collapsed": true
   },
   "outputs": [],
   "source": [
    "import cv2\n",
    "import numpy as np"
   ]
  },
  {
   "cell_type": "code",
   "execution_count": 19,
   "outputs": [
    {
     "name": "stdout",
     "output_type": "stream",
     "text": [
      "(28.807140350341797, 361.58575439453125)\n",
      "2.508039951324463\n",
      "265.92095947265625\n"
     ]
    }
   ],
   "source": [
    "original_lena = cv2.imread('./normal1.png')  # 读取lena原图\n",
    "lena_rot45 = cv2.imread('./normal2.png')  # 读取lena旋转45°图\n",
    "\n",
    "sift = cv2.xfeatures2d.SIFT_create()\n",
    "\n",
    "# 获取各个图像的特征点及sift特征向量\n",
    "# 返回值kp包含sift特征的方向、位置、大小等信息；des的shape为（sift_num， 128）， sift_num表示图像检测到的sift特征数量\n",
    "(kp1, des1) = sift.detectAndCompute(original_lena, None)\n",
    "(kp2, des2) = sift.detectAndCompute(lena_rot45, None)\n",
    "print(kp1[0].pt)  #坐标\n",
    "print(kp1[0].size)  #大小\n",
    "print(kp1[0].angle)  #方向"
   ],
   "metadata": {
    "collapsed": false
   }
  },
  {
   "cell_type": "code",
   "execution_count": 20,
   "outputs": [
    {
     "name": "stdout",
     "output_type": "stream",
     "text": [
      "用于 原图和旋转图 图像匹配的所有特征点数目： 2882\n",
      "[<DMatch 0000021A9840C350>, <DMatch 0000021A9840CED0>]\n"
     ]
    },
    {
     "data": {
      "text/plain": "True"
     },
     "execution_count": 20,
     "metadata": {},
     "output_type": "execute_result"
    }
   ],
   "source": [
    "frame1 = cv2.drawKeypoints(original_lena, kp1, original_lena, color=(255, 0, 255))\n",
    "frame2 = cv2.drawKeypoints(lena_rot45, kp2, lena_rot45, color=(255, 0, 255))\n",
    "sift_cat1 = np.hstack((frame1, frame2))        # 对提取特征点后的图像进行横向拼接\n",
    "\n",
    "# 特征点匹配\n",
    "# K近邻算法求取在空间中距离最近的K个数据点，并将这些数据点归为一类\n",
    "bf = cv2.BFMatcher()\n",
    "matches1 = bf.knnMatch(des1, des2, k=2)\n",
    "print('用于 原图和旋转图 图像匹配的所有特征点数目：', len(matches1))\n",
    "\n",
    "# 调整ratio\n",
    "# ratio=0.4：对于准确度要求高的匹配；\n",
    "# ratio=0.6：对于匹配点数目要求比较多的匹配；\n",
    "# ratio=0.5：一般情况下。\n",
    "ratio1 = 0.4\n",
    "good1 = []\n",
    "print(matches1[0])\n",
    "\n",
    "for m1, n1 in matches1:\n",
    "    # 如果最接近和次接近的比值大于一个既定的值，那么我们保留这个最接近的值，认为它和其匹配的点为good_match\n",
    "    if m1.distance < ratio1 * n1.distance:\n",
    "        good1.append([m1])\n",
    "\n",
    "\n",
    "\n",
    "# # 通过对good值进行索引，可以指定固定数目的特征点进行匹配，如good[:20]表示对前20个特征点进行匹配\n",
    "match_result1 = cv2.drawMatchesKnn(original_lena, kp1, lena_rot45, kp2, good1[:10], None, flags=2)\n",
    "cv2.imwrite(\"match_result1.png\", match_result1)"
   ],
   "metadata": {
    "collapsed": false
   }
  }
 ],
 "metadata": {
  "kernelspec": {
   "display_name": "Python 3",
   "language": "python",
   "name": "python3"
  },
  "language_info": {
   "codemirror_mode": {
    "name": "ipython",
    "version": 2
   },
   "file_extension": ".py",
   "mimetype": "text/x-python",
   "name": "python",
   "nbconvert_exporter": "python",
   "pygments_lexer": "ipython2",
   "version": "2.7.6"
  }
 },
 "nbformat": 4,
 "nbformat_minor": 0
}
