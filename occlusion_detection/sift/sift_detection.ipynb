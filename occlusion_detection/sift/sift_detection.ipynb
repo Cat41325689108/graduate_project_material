{
 "cells": [
  {
   "cell_type": "code",
   "execution_count": null,
   "outputs": [],
   "source": [
    "import cv2 as cv\n",
    "import numpy as np"
   ],
   "metadata": {
    "collapsed": false
   }
  },
  {
   "cell_type": "code",
   "execution_count": null,
   "metadata": {
    "collapsed": true
   },
   "outputs": [],
   "source": [
    "class Detector:\n",
    "    def __init__(self, fps):\n",
    "        self.fps = fps\n",
    "        self.T_f = self.fps * 5  # how many frames to be accumulated\n",
    "\n",
    "        self.F_avg = 0\n",
    "        self.F_sum = 0\n",
    "        self.initial_stage = True\n",
    "        self.initial_i = 2\n",
    "\n",
    "        self.pre_frame = None\n",
    "        self.pre_kp = None  #前一帧keypoint\n",
    "        self.pre_des = None  #前一帧描述子\n",
    "        self.cur_frame = None\n",
    "        self.cur_kp = None\n",
    "        self.cur_des = None\n",
    "\n",
    "        # self.output_frame_i = 0\n",
    "        # self.output_interval = 2  #seconds\n",
    "        # self.alarm_results = []\n",
    "\n",
    "        self.detecte_interval = 0  #frames\n",
    "        self.detecte_fram_i = 0\n",
    "\n",
    "    def pass_frame(self, frame):\n",
    "        self.detecte_fram_i += 1\n",
    "        if self.detecte_fram_i < self.detecte_interval:  #只在固定的帧间隔检查\n",
    "            return None\n",
    "        else:\n",
    "            self.detecte_fram_i = 0\n",
    "\n",
    "        kp, des = self.sift_process(frame)\n",
    "        if self.cur_frame is None:\n",
    "            self.cur_frame = frame\n",
    "            self.cur_kp = kp\n",
    "            self.cur_des = des\n",
    "            return None\n",
    "        else:\n",
    "            self.pre_frame = self.cur_frame\n",
    "            self.pre_kp = self.cur_kp\n",
    "            self.pre_des = self.cur_des\n",
    "            self.cur_frame = frame\n",
    "            self.cur_kp = kp\n",
    "            self.cur_des = des\n",
    "        return self.detect()\n",
    "\n",
    "    def sift_process(self, frame):\n",
    "        sift = cv.xfeatures2d.SIFT_create()\n",
    "        kp, des = sift.detectAndCompute(frame, None)\n",
    "        return kp, des\n",
    "\n",
    "    def detect(self):\n",
    "        bf = cv.BFMatcher()\n",
    "        matches = bf.knnMatch(self.pre_des, self.cur_des, k=2)\n",
    "\n",
    "        # 调整ratio\n",
    "        # ratio=0.4：对于准确度要求高的匹配；\n",
    "        ratio1 = 0.4\n",
    "        good = []\n",
    "        for m1, n1 in matches:\n",
    "            # 如果最接近和次接近的比值大于一个既定的值，那么我们保留这个最接近的值，认为它和其匹配的点为good_match\n",
    "            if m1.distance < ratio1 * n1.distance:\n",
    "                good.append(m1)\n",
    "\n",
    "        dis = 0\n",
    "        cal_num = 10\n",
    "        for match in good[:cal_num]:\n",
    "            dis += match.distance\n",
    "        dis /= cal_num\n",
    "        if dis > 100:\n",
    "            print(dis)\n",
    "            return 'motion'"
   ]
  },
  {
   "cell_type": "code",
   "execution_count": null,
   "outputs": [],
   "source": [
    "detector = Detector(1)\n",
    "frame = cv.imread('./normal1.png')  # 读取lena原图\n",
    "detector.pass_frame(frame)\n",
    "frame = cv.imread('./normal2.png')  # 读取lena原图\n",
    "detector.pass_frame(frame)\n",
    "detection = detector.detect()\n",
    "print(detection)"
   ],
   "metadata": {
    "collapsed": false
   }
  },
  {
   "cell_type": "code",
   "execution_count": null,
   "outputs": [],
   "source": [
    "cap = cv.VideoCapture('../datas/library_short.mp4')\n",
    "detector = Detector(fps=int(cap.get(cv.CAP_PROP_FPS)))\n",
    "\n",
    "while cap.isOpened():\n",
    "    ret, frame = cap.read()\n",
    "    if ret == False:\n",
    "        break\n",
    "\n",
    "    detection = detector.pass_frame(frame)\n",
    "    # frame_show = detector.frame_preprocess(frame)\n",
    "    frame_show = cv.resize(frame, (720, 720))  # 图像放缩\n",
    "    font = cv.FONT_HERSHEY_SIMPLEX\n",
    "    cv.putText(frame_show, detection, (10, 100), font, 0.5, (255, 255, 0), 2)\n",
    "    if detection != None:\n",
    "        print(detection)\n",
    "\n",
    "    cv.imshow('frame', frame_show)\n",
    "    c = cv.waitKey(1)\n",
    "    if c == 27:  #ESC键\n",
    "        break\n",
    "cap.release()\n",
    "cv.destroyAllWindows()"
   ],
   "metadata": {
    "collapsed": false
   }
  },
  {
   "cell_type": "code",
   "execution_count": null,
   "outputs": [],
   "source": [],
   "metadata": {
    "collapsed": false
   }
  }
 ],
 "metadata": {
  "kernelspec": {
   "display_name": "Python 3",
   "language": "python",
   "name": "python3"
  },
  "language_info": {
   "codemirror_mode": {
    "name": "ipython",
    "version": 2
   },
   "file_extension": ".py",
   "mimetype": "text/x-python",
   "name": "python",
   "nbconvert_exporter": "python",
   "pygments_lexer": "ipython2",
   "version": "2.7.6"
  }
 },
 "nbformat": 4,
 "nbformat_minor": 0
}
