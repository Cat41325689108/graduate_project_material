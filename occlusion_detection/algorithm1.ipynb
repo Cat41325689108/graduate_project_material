{
 "cells": [
  {
   "cell_type": "code",
   "execution_count": 98,
   "metadata": {
    "collapsed": true
   },
   "outputs": [
    {
     "name": "stdout",
     "output_type": "stream",
     "text": [
      "4.7.0\n"
     ]
    }
   ],
   "source": [
    "import cv2 as cv\n",
    "import numpy as np\n",
    "\n",
    "print(cv.__version__)"
   ]
  },
  {
   "cell_type": "code",
   "execution_count": 99,
   "outputs": [
    {
     "name": "stdout",
     "output_type": "stream",
     "text": [
      "4.7.0\n"
     ]
    }
   ],
   "source": [
    "class Detector:\n",
    "    def __init__(self, fps):\n",
    "        self.fps = fps\n",
    "        self.T_f = self.fps * 5  # how many frames to be accumulated\n",
    "\n",
    "        self.F_avg = 0\n",
    "        self.F_sum = 0\n",
    "        self.initial_stage = True\n",
    "        self.initial_i = 2\n",
    "\n",
    "        self.pre_frame = None\n",
    "        self.cur_frame = None\n",
    "\n",
    "        self.alpha = 1\n",
    "        self.threshold_low = 72\n",
    "        self.threshold_high = 168\n",
    "\n",
    "    def __frame_preprocess(self, frame):\n",
    "        f = cv.cvtColor(frame, cv.COLOR_BGR2GRAY)\n",
    "        f = cv.Canny(f, 100, 200)\n",
    "        return f\n",
    "\n",
    "    def pass_frame(self, frame):\n",
    "        f = self.__frame_preprocess(frame)\n",
    "        if self.cur_frame is None:\n",
    "            self.cur_frame = f\n",
    "            return 'initializing'\n",
    "        else:\n",
    "            self.pre_frame = self.cur_frame\n",
    "            self.cur_frame = f\n",
    "\n",
    "        if self.initial_stage == True:\n",
    "            self.__initialize()\n",
    "            return 'initializing'\n",
    "        else:\n",
    "            similarity = np.logical_and(self.pre_frame, self.cur_frame)\n",
    "            similarity = np.sum(similarity)\n",
    "            if similarity > self.F_avg / 3:\n",
    "                return 'normal'\n",
    "\n",
    "            if similarity > self.F_avg / 10:\n",
    "                return 'occlusion'\n",
    "            return self.__histogram_analyse()\n",
    "\n",
    "    def __initialize(self):\n",
    "        similarity = np.logical_and(self.pre_frame, self.cur_frame)\n",
    "        similarity=np.sum(similarity)\n",
    "        # if self.F_sum is None:\n",
    "        #     self.F_sum = np.zeros(self.pre_frame.shape)\n",
    "        self.F_sum += similarity\n",
    "        self.initial_i += 1\n",
    "        if self.initial_i >= self.T_f:\n",
    "            self.F_avg = np.sum(self.F_sum / (self.T_f + 1))\n",
    "            self.initial_stage = False\n",
    "\n",
    "    def __histogram_analyse(self):\n",
    "        alpha_motion = 1\n",
    "\n",
    "        hist_cur = cv.calcHist(self.cur_frame, [0], None, [256], [0, 255])\n",
    "        hist_pre = cv.calcHist(self.pre_frame, [0], None, [256], [0, 255])\n",
    "\n",
    "        sum = np.sum(hist_cur[0:self.threshold_low + 1]) + np.sum(hist_cur[self.threshold_high:256])\n",
    "        sum_pre = np.sum(hist_pre[0:self.threshold_low + 1]) + np.sum(hist_pre[self.threshold_high:256])\n",
    "        alpha = sum_pre / sum\n",
    "\n",
    "        # if alpha:\n",
    "        return 'unknown'\n",
    "\n",
    "\n",
    "print(cv.__version__)"
   ],
   "metadata": {
    "collapsed": false
   }
  },
  {
   "cell_type": "code",
   "execution_count": 100,
   "outputs": [],
   "source": [
    "# cap = cv.VideoCapture('datas/library_short.mp4')\n",
    "# fps = int(cap.get(cv.CAP_PROP_FPS))\n",
    "# detector = Detector(fps)\n",
    "# result = []\n",
    "# frame_i = 0\n",
    "#\n",
    "# while cap.isOpened():\n",
    "#     ret, frame = cap.read()\n",
    "#     if ret == False:\n",
    "#         break\n",
    "#     frame_i += 1\n",
    "#     cur_time = frame_i // fps\n",
    "#     detection = detector.pass_frame(frame)\n",
    "#     if detection != 'normal' and detection != 'initializing':\n",
    "#         result.append([cur_time, detection])\n",
    "#\n",
    "# cap.release()\n",
    "# print(result)"
   ],
   "metadata": {
    "collapsed": false
   }
  },
  {
   "cell_type": "code",
   "execution_count": 101,
   "outputs": [],
   "source": [
    "cap = cv.VideoCapture('datas/library_short.mp4')\n",
    "detector = Detector(fps=int(cap.get(cv.CAP_PROP_FPS)))\n",
    "\n",
    "while cap.isOpened():\n",
    "    ret, frame = cap.read()\n",
    "    if ret == False:\n",
    "        break\n",
    "\n",
    "    frame_show = cv.resize(frame, (720, 720))  # 图像放缩\n",
    "\n",
    "    detection = detector.pass_frame(frame)\n",
    "\n",
    "    font = cv.FONT_HERSHEY_SIMPLEX\n",
    "    cv.putText(frame_show, detection, (10, 100), font, 0.5, (255, 255, 0), 2)\n",
    "\n",
    "    cv.imshow('frame', frame_show)\n",
    "    c = cv.waitKey(25)\n",
    "    if c == 27:  #ESC键\n",
    "        break\n",
    "cap.release()\n",
    "cv.destroyAllWindows()"
   ],
   "metadata": {
    "collapsed": false
   }
  }
 ],
 "metadata": {
  "kernelspec": {
   "display_name": "Python 3",
   "language": "python",
   "name": "python3"
  },
  "language_info": {
   "codemirror_mode": {
    "name": "ipython",
    "version": 2
   },
   "file_extension": ".py",
   "mimetype": "text/x-python",
   "name": "python",
   "nbconvert_exporter": "python",
   "pygments_lexer": "ipython2",
   "version": "2.7.6"
  }
 },
 "nbformat": 4,
 "nbformat_minor": 0
}
