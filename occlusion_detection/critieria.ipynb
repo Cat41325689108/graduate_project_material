{
 "cells": [
  {
   "cell_type": "code",
   "execution_count": 22,
   "metadata": {
    "collapsed": true
   },
   "outputs": [],
   "source": [
    "import csv\n",
    "import os"
   ]
  },
  {
   "cell_type": "code",
   "execution_count": 23,
   "outputs": [],
   "source": [
    "def in_interval(time: int, interval: list):  # second\n",
    "    if interval[0] <= time <= interval[1]:\n",
    "        return True\n",
    "    return False"
   ],
   "metadata": {
    "collapsed": false
   }
  },
  {
   "cell_type": "code",
   "execution_count": 24,
   "outputs": [
    {
     "name": "stdout",
     "output_type": "stream",
     "text": [
      "[{'name': 'library_short.csv', 'occlusion': [[7, 14], [40, 45]], 'motion': [[22, 26]]}]\n"
     ]
    }
   ],
   "source": [
    "notation_files = os.listdir('./datas/notations')\n",
    "notations = []\n",
    "\n",
    "for n in notation_files:\n",
    "    with open(f'./datas/notations/{n}') as f:\n",
    "        info = {\n",
    "            'name': n,\n",
    "            'occlusion': [],\n",
    "            'motion': []\n",
    "        }\n",
    "        for row in csv.reader(f, skipinitialspace=True):\n",
    "            start, end, type = row\n",
    "            start = int(start)\n",
    "            end = int(end)\n",
    "            if type == 'occlusion':\n",
    "                info['occlusion'].append([start, end])\n",
    "            else:\n",
    "                info['motion'].append([start, end])\n",
    "        notations.append(info)\n",
    "print(notations)"
   ],
   "metadata": {
    "collapsed": false
   }
  },
  {
   "cell_type": "code",
   "execution_count": null,
   "outputs": [],
   "source": [],
   "metadata": {
    "collapsed": false
   }
  }
 ],
 "metadata": {
  "kernelspec": {
   "display_name": "Python 3",
   "language": "python",
   "name": "python3"
  },
  "language_info": {
   "codemirror_mode": {
    "name": "ipython",
    "version": 2
   },
   "file_extension": ".py",
   "mimetype": "text/x-python",
   "name": "python",
   "nbconvert_exporter": "python",
   "pygments_lexer": "ipython2",
   "version": "2.7.6"
  }
 },
 "nbformat": 4,
 "nbformat_minor": 0
}
